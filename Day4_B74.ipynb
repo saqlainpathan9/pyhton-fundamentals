{
 "cells": [
  {
   "cell_type": "code",
   "execution_count": null,
   "id": "62b723eb",
   "metadata": {},
   "outputs": [],
   "source": [
    "Introduction to list datatype :"
   ]
  },
  {
   "cell_type": "code",
   "execution_count": null,
   "id": "f8f91354",
   "metadata": {},
   "outputs": [],
   "source": [
    "Defination: A list is a collection of iteams declared in a partiular order.\n",
    "    \n",
    "Classification : It is classified as an mutable datatype.\n",
    "    \n",
    "Declaration of list datatype.....? ======> []"
   ]
  },
  {
   "cell_type": "code",
   "execution_count": 2,
   "id": "bf35fe83",
   "metadata": {},
   "outputs": [],
   "source": [
    "students = ['ravi', 'divya', 'sadiya', 'naveen', 'ahmed', 'suresh']"
   ]
  },
  {
   "cell_type": "code",
   "execution_count": 3,
   "id": "e260fa8b",
   "metadata": {},
   "outputs": [
    {
     "name": "stdout",
     "output_type": "stream",
     "text": [
      "['ravi', 'divya', 'sadiya', 'naveen', 'ahmed', 'suresh']\n"
     ]
    }
   ],
   "source": [
    "print(students);"
   ]
  },
  {
   "cell_type": "code",
   "execution_count": 5,
   "id": "58f7c42c",
   "metadata": {},
   "outputs": [
    {
     "data": {
      "text/plain": [
       "list"
      ]
     },
     "execution_count": 5,
     "metadata": {},
     "output_type": "execute_result"
    }
   ],
   "source": [
    "type(students)"
   ]
  },
  {
   "cell_type": "code",
   "execution_count": null,
   "id": "f950b955",
   "metadata": {},
   "outputs": [],
   "source": [
    "Introduction to indexing : 0,1,2,3,4"
   ]
  },
  {
   "cell_type": "code",
   "execution_count": 6,
   "id": "d1f9952d",
   "metadata": {},
   "outputs": [
    {
     "name": "stdout",
     "output_type": "stream",
     "text": [
      "divya\n"
     ]
    }
   ],
   "source": [
    "print(students[1])"
   ]
  },
  {
   "cell_type": "code",
   "execution_count": 7,
   "id": "66c0db18",
   "metadata": {},
   "outputs": [
    {
     "name": "stdout",
     "output_type": "stream",
     "text": [
      "suresh\n"
     ]
    }
   ],
   "source": [
    "print(students[5])"
   ]
  },
  {
   "cell_type": "code",
   "execution_count": 10,
   "id": "17893f7d",
   "metadata": {},
   "outputs": [
    {
     "name": "stdout",
     "output_type": "stream",
     "text": [
      "Naveen\n"
     ]
    }
   ],
   "source": [
    "print(students[3].title())"
   ]
  },
  {
   "cell_type": "code",
   "execution_count": null,
   "id": "3c017012",
   "metadata": {},
   "outputs": [],
   "source": [
    "1. How to add new student (element) to the lisy.....?\n",
    "\n",
    "2. How to modify the students in the list....?\n",
    "\n",
    "3. How to delete the student in the list...?"
   ]
  },
  {
   "cell_type": "code",
   "execution_count": null,
   "id": "500fcd98",
   "metadata": {},
   "outputs": [],
   "source": [
    "# add anand to the list"
   ]
  },
  {
   "cell_type": "code",
   "execution_count": 11,
   "id": "c5b189f7",
   "metadata": {},
   "outputs": [],
   "source": [
    "students.append('anand')"
   ]
  },
  {
   "cell_type": "code",
   "execution_count": 12,
   "id": "6eee8244",
   "metadata": {},
   "outputs": [
    {
     "name": "stdout",
     "output_type": "stream",
     "text": [
      "['ravi', 'divya', 'sadiya', 'naveen', 'ahmed', 'suresh', 'anand']\n"
     ]
    }
   ],
   "source": [
    "print(students)"
   ]
  },
  {
   "cell_type": "code",
   "execution_count": 13,
   "id": "9e3761bf",
   "metadata": {},
   "outputs": [
    {
     "name": "stdout",
     "output_type": "stream",
     "text": [
      "['ravi', 'divya', 'sadiya', 'naveen', 'ahmed', 'suresh', 'anand', 'swati']\n"
     ]
    }
   ],
   "source": [
    "students.append('swati')\n",
    "print(students)"
   ]
  },
  {
   "cell_type": "code",
   "execution_count": null,
   "id": "d99974de",
   "metadata": {},
   "outputs": [],
   "source": [
    "# adding deepa to the second position of the list"
   ]
  },
  {
   "cell_type": "code",
   "execution_count": 14,
   "id": "8d2ada20",
   "metadata": {},
   "outputs": [
    {
     "name": "stdout",
     "output_type": "stream",
     "text": [
      "['ravi', 'divya', 'deepa', 'sadiya', 'naveen', 'ahmed', 'suresh', 'anand', 'swati']\n"
     ]
    }
   ],
   "source": [
    "students.insert(2, 'deepa')\n",
    "print(students)"
   ]
  },
  {
   "cell_type": "code",
   "execution_count": 17,
   "id": "8d084eb6",
   "metadata": {},
   "outputs": [
    {
     "name": "stdout",
     "output_type": "stream",
     "text": [
      "Deepa\n"
     ]
    }
   ],
   "source": [
    "print(students[2].title())"
   ]
  },
  {
   "cell_type": "code",
   "execution_count": null,
   "id": "51fb51a1",
   "metadata": {},
   "outputs": [],
   "source": [
    "Interviews Question : Explain difference between append and insert"
   ]
  },
  {
   "cell_type": "code",
   "execution_count": null,
   "id": "f2b4b812",
   "metadata": {},
   "outputs": [],
   "source": [
    "# modify name ravi to raju"
   ]
  },
  {
   "cell_type": "code",
   "execution_count": 18,
   "id": "7d9a7da0",
   "metadata": {},
   "outputs": [],
   "source": [
    "students[0]='raju'"
   ]
  },
  {
   "cell_type": "code",
   "execution_count": 19,
   "id": "b056ecc6",
   "metadata": {},
   "outputs": [
    {
     "name": "stdout",
     "output_type": "stream",
     "text": [
      "['raju', 'divya', 'deepa', 'sadiya', 'naveen', 'ahmed', 'suresh', 'anand', 'swati']\n"
     ]
    }
   ],
   "source": [
    "print(students)"
   ]
  },
  {
   "cell_type": "code",
   "execution_count": null,
   "id": "0ed0d68b",
   "metadata": {},
   "outputs": [],
   "source": [
    "# delete student name from the list"
   ]
  },
  {
   "cell_type": "code",
   "execution_count": 20,
   "id": "00874766",
   "metadata": {},
   "outputs": [],
   "source": [
    "del students[4]"
   ]
  },
  {
   "cell_type": "code",
   "execution_count": 21,
   "id": "a525183d",
   "metadata": {
    "scrolled": true
   },
   "outputs": [
    {
     "name": "stdout",
     "output_type": "stream",
     "text": [
      "['raju', 'divya', 'deepa', 'sadiya', 'ahmed', 'suresh', 'anand', 'swati']\n"
     ]
    }
   ],
   "source": [
    "print(students)"
   ]
  },
  {
   "cell_type": "code",
   "execution_count": 23,
   "id": "de5aaaf3",
   "metadata": {},
   "outputs": [
    {
     "ename": "SyntaxError",
     "evalue": "invalid syntax (3711316182.py, line 1)",
     "output_type": "error",
     "traceback": [
      "\u001b[1;36m  Cell \u001b[1;32mIn[23], line 1\u001b[1;36m\u001b[0m\n\u001b[1;33m    del students[4] ====> permanent deleting :\u001b[0m\n\u001b[1;37m                      ^\u001b[0m\n\u001b[1;31mSyntaxError\u001b[0m\u001b[1;31m:\u001b[0m invalid syntax\n"
     ]
    }
   ],
   "source": [
    "del students[4] ====> permanent deleting :"
   ]
  },
  {
   "cell_type": "code",
   "execution_count": 24,
   "id": "8a59abbe",
   "metadata": {},
   "outputs": [
    {
     "name": "stdout",
     "output_type": "stream",
     "text": [
      "['raju', 'divya', 'deepa', 'sadiya', 'ahmed', 'suresh', 'anand', 'swati']\n"
     ]
    }
   ],
   "source": [
    "print(students)"
   ]
  },
  {
   "cell_type": "code",
   "execution_count": null,
   "id": "f2c0bb4c",
   "metadata": {},
   "outputs": [],
   "source": [
    "# pop()----> By default it will be deleting the last element from the list and will be saving in the variable assigned."
   ]
  },
  {
   "cell_type": "code",
   "execution_count": 25,
   "id": "022edfc7",
   "metadata": {},
   "outputs": [
    {
     "name": "stdout",
     "output_type": "stream",
     "text": [
      "['raju', 'divya', 'deepa', 'sadiya', 'ahmed', 'suresh', 'anand', 'swati']\n"
     ]
    }
   ],
   "source": [
    "print(students)"
   ]
  },
  {
   "cell_type": "code",
   "execution_count": 26,
   "id": "9bb05b08",
   "metadata": {},
   "outputs": [],
   "source": [
    "popElement = students.pop()"
   ]
  },
  {
   "cell_type": "code",
   "execution_count": 27,
   "id": "411e8bf8",
   "metadata": {},
   "outputs": [
    {
     "name": "stdout",
     "output_type": "stream",
     "text": [
      "swati\n"
     ]
    }
   ],
   "source": [
    "print(popElement)"
   ]
  },
  {
   "cell_type": "code",
   "execution_count": 28,
   "id": "7734378a",
   "metadata": {},
   "outputs": [
    {
     "name": "stdout",
     "output_type": "stream",
     "text": [
      "['raju', 'divya', 'deepa', 'sadiya', 'ahmed', 'suresh', 'anand']\n"
     ]
    }
   ],
   "source": [
    "print(students)"
   ]
  },
  {
   "cell_type": "code",
   "execution_count": null,
   "id": "26d1204a",
   "metadata": {},
   "outputs": [],
   "source": [
    "# Interview Question : Difference between del() and pop() in the list datatype"
   ]
  },
  {
   "cell_type": "code",
   "execution_count": null,
   "id": "a3fba122",
   "metadata": {},
   "outputs": [],
   "source": [
    "Intoduction to negative indexing : -1,-2,-3...... : reverse indexing"
   ]
  },
  {
   "cell_type": "code",
   "execution_count": 29,
   "id": "3b14e6d6",
   "metadata": {},
   "outputs": [
    {
     "name": "stdout",
     "output_type": "stream",
     "text": [
      "['raju', 'divya', 'deepa', 'sadiya', 'ahmed', 'suresh', 'anand']\n"
     ]
    }
   ],
   "source": [
    "print(students)"
   ]
  },
  {
   "cell_type": "code",
   "execution_count": 30,
   "id": "3a55e247",
   "metadata": {},
   "outputs": [
    {
     "name": "stdout",
     "output_type": "stream",
     "text": [
      "anand\n"
     ]
    }
   ],
   "source": [
    "print(students[-1])"
   ]
  },
  {
   "cell_type": "code",
   "execution_count": 31,
   "id": "3b8fcf3e",
   "metadata": {},
   "outputs": [
    {
     "name": "stdout",
     "output_type": "stream",
     "text": [
      "The Zen of Python, by Tim Peters\n",
      "\n",
      "Beautiful is better than ugly.\n",
      "Explicit is better than implicit.\n",
      "Simple is better than complex.\n",
      "Complex is better than complicated.\n",
      "Flat is better than nested.\n",
      "Sparse is better than dense.\n",
      "Readability counts.\n",
      "Special cases aren't special enough to break the rules.\n",
      "Although practicality beats purity.\n",
      "Errors should never pass silently.\n",
      "Unless explicitly silenced.\n",
      "In the face of ambiguity, refuse the temptation to guess.\n",
      "There should be one-- and preferably only one --obvious way to do it.\n",
      "Although that way may not be obvious at first unless you're Dutch.\n",
      "Now is better than never.\n",
      "Although never is often better than *right* now.\n",
      "If the implementation is hard to explain, it's a bad idea.\n",
      "If the implementation is easy to explain, it may be a good idea.\n",
      "Namespaces are one honking great idea -- let's do more of those!\n"
     ]
    }
   ],
   "source": [
    "import this"
   ]
  },
  {
   "cell_type": "code",
   "execution_count": null,
   "id": "29fb89d8",
   "metadata": {},
   "outputs": [],
   "source": []
  }
 ],
 "metadata": {
  "kernelspec": {
   "display_name": "Python 3 (ipykernel)",
   "language": "python",
   "name": "python3"
  },
  "language_info": {
   "codemirror_mode": {
    "name": "ipython",
    "version": 3
   },
   "file_extension": ".py",
   "mimetype": "text/x-python",
   "name": "python",
   "nbconvert_exporter": "python",
   "pygments_lexer": "ipython3",
   "version": "3.9.6"
  }
 },
 "nbformat": 4,
 "nbformat_minor": 5
}
