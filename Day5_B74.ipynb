{
 "cells": [
  {
   "cell_type": "code",
   "execution_count": null,
   "id": "08cbef83",
   "metadata": {},
   "outputs": [],
   "source": [
    "# Working with list datatype :"
   ]
  },
  {
   "cell_type": "code",
   "execution_count": null,
   "id": "e9654c3c",
   "metadata": {},
   "outputs": [],
   "source": [
    "# Organising the list datatype :"
   ]
  },
  {
   "cell_type": "code",
   "execution_count": 1,
   "id": "03b6dd53",
   "metadata": {},
   "outputs": [],
   "source": [
    "cars = ['kia', 'benz', 'maruti', 'bmw', 'audi']"
   ]
  },
  {
   "cell_type": "code",
   "execution_count": null,
   "id": "845e1e2f",
   "metadata": {},
   "outputs": [],
   "source": [
    "# To print he list in the alphabetical order------> A-Z"
   ]
  },
  {
   "cell_type": "code",
   "execution_count": null,
   "id": "e4ec8a33",
   "metadata": {},
   "outputs": [],
   "source": [
    "Two approaches:\n",
    "    \n",
    "    1. temporary approach ===========> sorted=====> we can maintain the original order of the list\n",
    "    2. permanent approach ===========> sort =====> changes are applied permanently"
   ]
  },
  {
   "cell_type": "code",
   "execution_count": 2,
   "id": "b952bc34",
   "metadata": {},
   "outputs": [
    {
     "name": "stdout",
     "output_type": "stream",
     "text": [
      "['audi', 'benz', 'bmw', 'kia', 'maruti']\n"
     ]
    }
   ],
   "source": [
    "print(sorted(cars)) # A, B,B ,H,K,M=====>A_Z TEMPORARY APPROACH"
   ]
  },
  {
   "cell_type": "code",
   "execution_count": null,
   "id": "776602d8",
   "metadata": {},
   "outputs": [],
   "source": [
    "# PERMANENT APPROACH - sort()"
   ]
  },
  {
   "cell_type": "code",
   "execution_count": 3,
   "id": "18355a56",
   "metadata": {},
   "outputs": [
    {
     "name": "stdout",
     "output_type": "stream",
     "text": [
      "['kia', 'benz', 'maruti', 'bmw', 'audi']\n"
     ]
    }
   ],
   "source": [
    "print(cars)"
   ]
  },
  {
   "cell_type": "code",
   "execution_count": 4,
   "id": "1ae70906",
   "metadata": {},
   "outputs": [],
   "source": [
    "cars.sort();"
   ]
  },
  {
   "cell_type": "code",
   "execution_count": 5,
   "id": "15d3eedb",
   "metadata": {},
   "outputs": [
    {
     "name": "stdout",
     "output_type": "stream",
     "text": [
      "['audi', 'benz', 'bmw', 'kia', 'maruti']\n"
     ]
    }
   ],
   "source": [
    "print(cars)"
   ]
  },
  {
   "cell_type": "code",
   "execution_count": null,
   "id": "6253a1fc",
   "metadata": {},
   "outputs": [],
   "source": [
    "# Interview Question : what is the diff between sorted and sort method"
   ]
  },
  {
   "cell_type": "code",
   "execution_count": null,
   "id": "20d7adb2",
   "metadata": {},
   "outputs": [],
   "source": [
    "# to print the list in the reverse order"
   ]
  },
  {
   "cell_type": "code",
   "execution_count": 6,
   "id": "7f6520a3",
   "metadata": {},
   "outputs": [
    {
     "name": "stdout",
     "output_type": "stream",
     "text": [
      "['audi', 'benz', 'bmw', 'kia', 'maruti']\n"
     ]
    }
   ],
   "source": [
    "print(cars)"
   ]
  },
  {
   "cell_type": "code",
   "execution_count": 7,
   "id": "bf8c8d45",
   "metadata": {},
   "outputs": [],
   "source": [
    "cars.reverse()"
   ]
  },
  {
   "cell_type": "code",
   "execution_count": 8,
   "id": "7ac0ae7a",
   "metadata": {},
   "outputs": [
    {
     "name": "stdout",
     "output_type": "stream",
     "text": [
      "['maruti', 'kia', 'bmw', 'benz', 'audi']\n"
     ]
    }
   ],
   "source": [
    "print(cars)"
   ]
  },
  {
   "cell_type": "code",
   "execution_count": null,
   "id": "879ec749",
   "metadata": {},
   "outputs": [],
   "source": [
    "# to print the count of elements in the list"
   ]
  },
  {
   "cell_type": "code",
   "execution_count": 9,
   "id": "cd53c9ab",
   "metadata": {},
   "outputs": [
    {
     "data": {
      "text/plain": [
       "5"
      ]
     },
     "execution_count": 9,
     "metadata": {},
     "output_type": "execute_result"
    }
   ],
   "source": [
    "len(cars)"
   ]
  },
  {
   "cell_type": "code",
   "execution_count": null,
   "id": "e093ef0d",
   "metadata": {},
   "outputs": [],
   "source": [
    "# Introduction to slicing : ********************************"
   ]
  },
  {
   "cell_type": "code",
   "execution_count": 10,
   "id": "a5cbfa5b",
   "metadata": {},
   "outputs": [],
   "source": [
    "students = ['trinadh', 'akil','ansari','david','sadiya','iqra','divya','swathi']"
   ]
  },
  {
   "cell_type": "code",
   "execution_count": 11,
   "id": "3e1435af",
   "metadata": {},
   "outputs": [
    {
     "name": "stdout",
     "output_type": "stream",
     "text": [
      "['trinadh', 'akil', 'ansari', 'david', 'sadiya', 'iqra', 'divya', 'swathi']\n"
     ]
    }
   ],
   "source": [
    "print(students)"
   ]
  },
  {
   "cell_type": "code",
   "execution_count": 12,
   "id": "2ab8a04a",
   "metadata": {},
   "outputs": [
    {
     "data": {
      "text/plain": [
       "list"
      ]
     },
     "execution_count": 12,
     "metadata": {},
     "output_type": "execute_result"
    }
   ],
   "source": [
    "type(students)"
   ]
  },
  {
   "cell_type": "code",
   "execution_count": null,
   "id": "b5285c69",
   "metadata": {},
   "outputs": [],
   "source": [
    "# General syntax of slicing ---Important"
   ]
  },
  {
   "cell_type": "code",
   "execution_count": null,
   "id": "3245d6e1",
   "metadata": {},
   "outputs": [],
   "source": [
    "[startValue:stopValue:stepCount]"
   ]
  },
  {
   "cell_type": "code",
   "execution_count": null,
   "id": "6f2df626",
   "metadata": {},
   "outputs": [],
   "source": [
    "Note : stop value is always exclusive - to include we have to increment the index by +1."
   ]
  },
  {
   "cell_type": "code",
   "execution_count": null,
   "id": "cc0adffc",
   "metadata": {},
   "outputs": [],
   "source": []
  },
  {
   "cell_type": "code",
   "execution_count": null,
   "id": "38734f2f",
   "metadata": {},
   "outputs": [],
   "source": [
    "# to print trinadh and akil in the output"
   ]
  },
  {
   "cell_type": "code",
   "execution_count": 13,
   "id": "4347aa2e",
   "metadata": {},
   "outputs": [
    {
     "name": "stdout",
     "output_type": "stream",
     "text": [
      "['trinadh']\n"
     ]
    }
   ],
   "source": [
    "print(students[0:1])"
   ]
  },
  {
   "cell_type": "code",
   "execution_count": 14,
   "id": "e182a183",
   "metadata": {},
   "outputs": [
    {
     "name": "stdout",
     "output_type": "stream",
     "text": [
      "['trinadh', 'akil']\n"
     ]
    }
   ],
   "source": [
    "print(students[0:2])"
   ]
  },
  {
   "cell_type": "code",
   "execution_count": 15,
   "id": "1cc7552f",
   "metadata": {},
   "outputs": [
    {
     "name": "stdout",
     "output_type": "stream",
     "text": [
      "['ansari', 'david']\n"
     ]
    }
   ],
   "source": [
    "print(students[2:4])"
   ]
  },
  {
   "cell_type": "code",
   "execution_count": 17,
   "id": "99c6b6e4",
   "metadata": {},
   "outputs": [
    {
     "name": "stdout",
     "output_type": "stream",
     "text": [
      "['divya', 'swathi']\n"
     ]
    }
   ],
   "source": [
    "print(students[6:8])"
   ]
  },
  {
   "cell_type": "code",
   "execution_count": 19,
   "id": "67c7cf16",
   "metadata": {},
   "outputs": [
    {
     "name": "stdout",
     "output_type": "stream",
     "text": [
      "['trinadh', 'akil', 'ansari', 'david', 'sadiya', 'iqra']\n"
     ]
    }
   ],
   "source": [
    "print(students[0:6:1])"
   ]
  },
  {
   "cell_type": "code",
   "execution_count": 20,
   "id": "92d89a37",
   "metadata": {},
   "outputs": [
    {
     "name": "stdout",
     "output_type": "stream",
     "text": [
      "['trinadh', 'ansari', 'sadiya']\n"
     ]
    }
   ],
   "source": [
    "print(students[0:6:2])"
   ]
  },
  {
   "cell_type": "code",
   "execution_count": 21,
   "id": "fd135097",
   "metadata": {},
   "outputs": [
    {
     "name": "stdout",
     "output_type": "stream",
     "text": [
      "['trinadh', 'david', 'divya']\n"
     ]
    }
   ],
   "source": [
    "print(students[0:7:3])"
   ]
  },
  {
   "cell_type": "code",
   "execution_count": null,
   "id": "0b31f98d",
   "metadata": {},
   "outputs": [],
   "source": []
  }
 ],
 "metadata": {
  "kernelspec": {
   "display_name": "Python 3 (ipykernel)",
   "language": "python",
   "name": "python3"
  },
  "language_info": {
   "codemirror_mode": {
    "name": "ipython",
    "version": 3
   },
   "file_extension": ".py",
   "mimetype": "text/x-python",
   "name": "python",
   "nbconvert_exporter": "python",
   "pygments_lexer": "ipython3",
   "version": "3.9.6"
  }
 },
 "nbformat": 4,
 "nbformat_minor": 5
}
