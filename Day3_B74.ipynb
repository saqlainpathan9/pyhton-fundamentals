{
 "cells": [
  {
   "cell_type": "code",
   "execution_count": 1,
   "id": "3a5f19d6",
   "metadata": {},
   "outputs": [],
   "source": [
    "fist_name = 'bharat'\n",
    "last_name ='reddy'"
   ]
  },
  {
   "cell_type": "code",
   "execution_count": null,
   "id": "33ed103b",
   "metadata": {},
   "outputs": [],
   "source": [
    "Understanding the concept of f string"
   ]
  },
  {
   "cell_type": "code",
   "execution_count": null,
   "id": "a02345e6",
   "metadata": {},
   "outputs": [],
   "source": [
    "# syntax of f strings"
   ]
  },
  {
   "cell_type": "code",
   "execution_count": null,
   "id": "915c8b8f",
   "metadata": {},
   "outputs": [],
   "source": [
    "f\" custom words {place_holder - 1} {place_holder - 2}--------{place_holder ----n}\""
   ]
  },
  {
   "cell_type": "code",
   "execution_count": 3,
   "id": "ca76ba0a",
   "metadata": {},
   "outputs": [
    {
     "name": "stdout",
     "output_type": "stream",
     "text": [
      "bharat reddy\n"
     ]
    }
   ],
   "source": [
    "full_name = f\"{fist_name} {last_name}\"\n",
    "print(full_name);"
   ]
  },
  {
   "cell_type": "code",
   "execution_count": 4,
   "id": "5c92eb55",
   "metadata": {},
   "outputs": [
    {
     "name": "stdout",
     "output_type": "stream",
     "text": [
      "bharatreddy\n"
     ]
    }
   ],
   "source": [
    "full_name = f\"{fist_name}{last_name}\"\n",
    "print(full_name);"
   ]
  },
  {
   "cell_type": "code",
   "execution_count": 6,
   "id": "258d3016",
   "metadata": {},
   "outputs": [
    {
     "name": "stdout",
     "output_type": "stream",
     "text": [
      "bharat reddy\n"
     ]
    }
   ],
   "source": [
    "full_name = f\"{fist_name} {last_name}\"\n",
    "print(full_name);"
   ]
  },
  {
   "cell_type": "code",
   "execution_count": 7,
   "id": "956909d5",
   "metadata": {},
   "outputs": [
    {
     "name": "stdout",
     "output_type": "stream",
     "text": [
      "keep up the good work, Bharat Reddy\n"
     ]
    }
   ],
   "source": [
    "message = f\"keep up the good work, {full_name.title()}\"\n",
    "print(message);"
   ]
  },
  {
   "cell_type": "code",
   "execution_count": 8,
   "id": "19fc5b6f",
   "metadata": {},
   "outputs": [
    {
     "name": "stdout",
     "output_type": "stream",
     "text": [
      "keep up the good work, bharat reddy\n"
     ]
    }
   ],
   "source": [
    "message = f\"keep up the good work, {full_name}\"\n",
    "print(message);"
   ]
  },
  {
   "cell_type": "code",
   "execution_count": null,
   "id": "116c3476",
   "metadata": {},
   "outputs": [],
   "source": [
    "Adding whitespaces"
   ]
  },
  {
   "cell_type": "code",
   "execution_count": 9,
   "id": "9ca6b38f",
   "metadata": {},
   "outputs": [
    {
     "name": "stdout",
     "output_type": "stream",
     "text": [
      "favourite\n"
     ]
    }
   ],
   "source": [
    "print(\"favourite\")"
   ]
  },
  {
   "cell_type": "code",
   "execution_count": 10,
   "id": "71592f5c",
   "metadata": {},
   "outputs": [
    {
     "name": "stdout",
     "output_type": "stream",
     "text": [
      "favaourite_programming_language:pythonjavaC++swiftpascalcobol\n"
     ]
    }
   ],
   "source": [
    "print(\"favaourite_programming_language:pythonjavaC++swiftpascalcobol\");"
   ]
  },
  {
   "cell_type": "code",
   "execution_count": null,
   "id": "fb81a2fb",
   "metadata": {},
   "outputs": [],
   "source": [
    "# new line delimiter \\n and \\t"
   ]
  },
  {
   "cell_type": "code",
   "execution_count": 11,
   "id": "ad828f8b",
   "metadata": {},
   "outputs": [
    {
     "name": "stdout",
     "output_type": "stream",
     "text": [
      "favaourite_programming_language:\n",
      "python\n",
      "java\n",
      "C++\n",
      "swift\n",
      "pascal\n",
      "cobol\n"
     ]
    }
   ],
   "source": [
    "print(\"favaourite_programming_language:\\npython\\njava\\nC++\\nswift\\npascal\\ncobol\");"
   ]
  },
  {
   "cell_type": "code",
   "execution_count": 13,
   "id": "1ee27690",
   "metadata": {},
   "outputs": [
    {
     "name": "stdout",
     "output_type": "stream",
     "text": [
      "favaourite_programming_language:\n",
      "\tpython\n",
      "\tjava\n",
      "\tC++\n",
      "\tswift\n",
      "\tpascal\n",
      "\tcobol\n"
     ]
    }
   ],
   "source": [
    "print(\"favaourite_programming_language:\\n\\tpython\\n\\tjava\\n\\tC++\\n\\tswift\\n\\tpascal\\n\\tcobol\");"
   ]
  },
  {
   "cell_type": "code",
   "execution_count": null,
   "id": "6dbf2068",
   "metadata": {},
   "outputs": [],
   "source": [
    "#Removing spaces from string using strip(), lstrip(),rstrip()"
   ]
  },
  {
   "cell_type": "code",
   "execution_count": 14,
   "id": "5570bff1",
   "metadata": {},
   "outputs": [
    {
     "name": "stdout",
     "output_type": "stream",
     "text": [
      "python\n"
     ]
    }
   ],
   "source": [
    "name = 'python'\n",
    "print(name);"
   ]
  },
  {
   "cell_type": "code",
   "execution_count": 17,
   "id": "3bc769e8",
   "metadata": {},
   "outputs": [
    {
     "name": "stdout",
     "output_type": "stream",
     "text": [
      "python\n"
     ]
    }
   ],
   "source": [
    "name2 = ' python'\n",
    "print(name);"
   ]
  },
  {
   "cell_type": "code",
   "execution_count": 18,
   "id": "37aa32ff",
   "metadata": {},
   "outputs": [],
   "source": [
    "name2.lstrip();"
   ]
  },
  {
   "cell_type": "code",
   "execution_count": 19,
   "id": "94954708",
   "metadata": {},
   "outputs": [
    {
     "data": {
      "text/plain": [
       "'python'"
      ]
     },
     "execution_count": 19,
     "metadata": {},
     "output_type": "execute_result"
    }
   ],
   "source": [
    "name2.lstrip()"
   ]
  },
  {
   "cell_type": "code",
   "execution_count": 24,
   "id": "44c44e89",
   "metadata": {},
   "outputs": [
    {
     "name": "stdout",
     "output_type": "stream",
     "text": [
      "python\n"
     ]
    }
   ],
   "source": [
    "name3 = 'python  '\n",
    "print(name)"
   ]
  },
  {
   "cell_type": "code",
   "execution_count": 25,
   "id": "2aa1b285",
   "metadata": {},
   "outputs": [
    {
     "data": {
      "text/plain": [
       "'python'"
      ]
     },
     "execution_count": 25,
     "metadata": {},
     "output_type": "execute_result"
    }
   ],
   "source": [
    "name3.rstrip()"
   ]
  },
  {
   "cell_type": "code",
   "execution_count": 26,
   "id": "b1808130",
   "metadata": {},
   "outputs": [
    {
     "name": "stdout",
     "output_type": "stream",
     "text": [
      "  python  \n"
     ]
    }
   ],
   "source": [
    "name4 = '  python  '\n",
    "print(name4)"
   ]
  },
  {
   "cell_type": "code",
   "execution_count": 27,
   "id": "be18a339",
   "metadata": {},
   "outputs": [
    {
     "data": {
      "text/plain": [
       "'python'"
      ]
     },
     "execution_count": 27,
     "metadata": {},
     "output_type": "execute_result"
    }
   ],
   "source": [
    "name4.strip() # search + execute"
   ]
  },
  {
   "cell_type": "code",
   "execution_count": null,
   "id": "23b7b8f5",
   "metadata": {},
   "outputs": [],
   "source": []
  }
 ],
 "metadata": {
  "kernelspec": {
   "display_name": "Python 3 (ipykernel)",
   "language": "python",
   "name": "python3"
  },
  "language_info": {
   "codemirror_mode": {
    "name": "ipython",
    "version": 3
   },
   "file_extension": ".py",
   "mimetype": "text/x-python",
   "name": "python",
   "nbconvert_exporter": "python",
   "pygments_lexer": "ipython3",
   "version": "3.9.6"
  }
 },
 "nbformat": 4,
 "nbformat_minor": 5
}
