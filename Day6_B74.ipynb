{
 "cells": [
  {
   "cell_type": "code",
   "execution_count": null,
   "id": "491c9ee2",
   "metadata": {},
   "outputs": [],
   "source": [
    "# Understanding loops:"
   ]
  },
  {
   "cell_type": "code",
   "execution_count": null,
   "id": "0cb65543",
   "metadata": {},
   "outputs": [],
   "source": [
    "# formulae:\n",
    "\n",
    "for temp_var in main_var:\n",
    "    print(temp_var)"
   ]
  },
  {
   "cell_type": "code",
   "execution_count": null,
   "id": "89c0311c",
   "metadata": {},
   "outputs": [],
   "source": []
  },
  {
   "cell_type": "code",
   "execution_count": 1,
   "id": "239fc8a8",
   "metadata": {},
   "outputs": [],
   "source": [
    "students = ['sunil','naveen','abdul','snehal','iqra','sadiya']"
   ]
  },
  {
   "cell_type": "code",
   "execution_count": 2,
   "id": "50303634",
   "metadata": {},
   "outputs": [
    {
     "name": "stdout",
     "output_type": "stream",
     "text": [
      "['sunil', 'naveen', 'abdul', 'snehal', 'iqra', 'sadiya']\n"
     ]
    }
   ],
   "source": [
    "print(students)"
   ]
  },
  {
   "cell_type": "code",
   "execution_count": 3,
   "id": "620a2895",
   "metadata": {},
   "outputs": [
    {
     "data": {
      "text/plain": [
       "list"
      ]
     },
     "execution_count": 3,
     "metadata": {},
     "output_type": "execute_result"
    }
   ],
   "source": [
    "type(students)"
   ]
  },
  {
   "cell_type": "code",
   "execution_count": null,
   "id": "1f605a95",
   "metadata": {},
   "outputs": [],
   "source": [
    "# I want to appreciate he above students in the list.."
   ]
  },
  {
   "cell_type": "code",
   "execution_count": 4,
   "id": "cc26428d",
   "metadata": {},
   "outputs": [
    {
     "name": "stdout",
     "output_type": "stream",
     "text": [
      "keep up the goo work, Naveen\n"
     ]
    }
   ],
   "source": [
    "print(f\"keep up the goo work, {students[1].title()}\")"
   ]
  },
  {
   "cell_type": "code",
   "execution_count": 5,
   "id": "d9d8d370",
   "metadata": {},
   "outputs": [
    {
     "name": "stdout",
     "output_type": "stream",
     "text": [
      "keep up the goo work, Sunil\n"
     ]
    }
   ],
   "source": [
    "print(f\"keep up the goo work, {students[0].title()}\")"
   ]
  },
  {
   "cell_type": "code",
   "execution_count": 6,
   "id": "02aca842",
   "metadata": {},
   "outputs": [
    {
     "name": "stdout",
     "output_type": "stream",
     "text": [
      "keep up the good work, sunil\n",
      "keep up the good work, naveen\n",
      "keep up the good work, abdul\n",
      "keep up the good work, snehal\n",
      "keep up the good work, iqra\n",
      "keep up the good work, sadiya\n"
     ]
    }
   ],
   "source": [
    "# Using for loop\n",
    "\n",
    "for x in students:\n",
    "    print(f\"keep up the good work, {x}\")"
   ]
  },
  {
   "cell_type": "code",
   "execution_count": 7,
   "id": "6b73fc80",
   "metadata": {},
   "outputs": [
    {
     "name": "stdout",
     "output_type": "stream",
     "text": [
      "sunil\n",
      "naveen\n",
      "abdul\n",
      "snehal\n",
      "iqra\n",
      "sadiya\n"
     ]
    }
   ],
   "source": [
    "for a in students:\n",
    "    print(a)"
   ]
  },
  {
   "cell_type": "code",
   "execution_count": null,
   "id": "ab4d53f8",
   "metadata": {},
   "outputs": [],
   "source": [
    "# req : I wany to remind them that I will be looking forward for the running notes of today"
   ]
  },
  {
   "cell_type": "code",
   "execution_count": 9,
   "id": "aab4ac30",
   "metadata": {},
   "outputs": [
    {
     "name": "stdout",
     "output_type": "stream",
     "text": [
      "keep up the good work, sunil\n",
      "I will be looking forward for the running notes of today, sunil\n",
      "keep up the good work, naveen\n",
      "I will be looking forward for the running notes of today, naveen\n",
      "keep up the good work, abdul\n",
      "I will be looking forward for the running notes of today, abdul\n",
      "keep up the good work, snehal\n",
      "I will be looking forward for the running notes of today, snehal\n",
      "keep up the good work, iqra\n",
      "I will be looking forward for the running notes of today, iqra\n",
      "keep up the good work, sadiya\n",
      "I will be looking forward for the running notes of today, sadiya\n"
     ]
    }
   ],
   "source": [
    "for x in students:\n",
    "    print(f\"keep up the good work, {x}\")\n",
    "    print(f\"I will be looking forward for the running notes of today, {x}\")"
   ]
  },
  {
   "cell_type": "code",
   "execution_count": null,
   "id": "12e159b3",
   "metadata": {},
   "outputs": [],
   "source": [
    "# Enhancement of the code using delimeter : \\n"
   ]
  },
  {
   "cell_type": "code",
   "execution_count": 10,
   "id": "9966f7b3",
   "metadata": {},
   "outputs": [
    {
     "name": "stdout",
     "output_type": "stream",
     "text": [
      "keep up the good work, sunil\n",
      "I will be looking forward for the running notes of today, sunil\n",
      "\n",
      "keep up the good work, naveen\n",
      "I will be looking forward for the running notes of today, naveen\n",
      "\n",
      "keep up the good work, abdul\n",
      "I will be looking forward for the running notes of today, abdul\n",
      "\n",
      "keep up the good work, snehal\n",
      "I will be looking forward for the running notes of today, snehal\n",
      "\n",
      "keep up the good work, iqra\n",
      "I will be looking forward for the running notes of today, iqra\n",
      "\n",
      "keep up the good work, sadiya\n",
      "I will be looking forward for the running notes of today, sadiya\n",
      "\n"
     ]
    }
   ],
   "source": [
    "for x in students:\n",
    "    print(f\"keep up the good work, {x}\")\n",
    "    print(f\"I will be looking forward for the running notes of today, {x}\\n\")"
   ]
  },
  {
   "cell_type": "code",
   "execution_count": 11,
   "id": "ee81af7f",
   "metadata": {},
   "outputs": [],
   "source": [
    "id = [1,2,3,4,5,6,7]"
   ]
  },
  {
   "cell_type": "code",
   "execution_count": 12,
   "id": "bbc3d76a",
   "metadata": {},
   "outputs": [
    {
     "name": "stdout",
     "output_type": "stream",
     "text": [
      "[1, 2, 3, 4, 5, 6, 7]\n"
     ]
    }
   ],
   "source": [
    "print(id)"
   ]
  },
  {
   "cell_type": "code",
   "execution_count": 13,
   "id": "84da9b35",
   "metadata": {},
   "outputs": [
    {
     "name": "stdout",
     "output_type": "stream",
     "text": [
      "1\n",
      "2\n",
      "3\n",
      "4\n",
      "5\n",
      "6\n",
      "7\n"
     ]
    }
   ],
   "source": [
    "for y in id:\n",
    "    print(y)"
   ]
  },
  {
   "cell_type": "code",
   "execution_count": null,
   "id": "e613f98b",
   "metadata": {},
   "outputs": [],
   "source": []
  }
 ],
 "metadata": {
  "kernelspec": {
   "display_name": "Python 3 (ipykernel)",
   "language": "python",
   "name": "python3"
  },
  "language_info": {
   "codemirror_mode": {
    "name": "ipython",
    "version": 3
   },
   "file_extension": ".py",
   "mimetype": "text/x-python",
   "name": "python",
   "nbconvert_exporter": "python",
   "pygments_lexer": "ipython3",
   "version": "3.9.6"
  }
 },
 "nbformat": 4,
 "nbformat_minor": 5
}
